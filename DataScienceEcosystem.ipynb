{
 "cells": [
  {
   "cell_type": "markdown",
   "id": "5975b814-4a8f-4838-9bf6-9bfceca2ccea",
   "metadata": {},
   "source": [
    "# Data Science Tools and Ecosystem"
   ]
  },
  {
   "cell_type": "markdown",
   "id": "2ae2b19d-1f28-421b-8ddf-0978d84cbe71",
   "metadata": {},
   "source": [
    "In this notebook, Data Science Tools and Ecosystem are summarized."
   ]
  },
  {
   "cell_type": "markdown",
   "id": "4dcf825d-3463-4495-adaf-010a4558ed9a",
   "metadata": {},
   "source": [
    "Some of the popular languages that Data Scientists use are: \n",
    "1. Python\n",
    "2. R\n",
    "3. Julia"
   ]
  },
  {
   "cell_type": "markdown",
   "id": "28d58da2-5931-4e81-9adb-af5955c99335",
   "metadata": {},
   "source": [
    "Some of the commonly used libraries used by Data Scientists include:\n",
    "1. Pandas\n",
    "2. Matplotlib\n",
    "3. NumPy"
   ]
  },
  {
   "cell_type": "markdown",
   "id": "b41e0dce-e02e-4805-9e90-63d6008f85f5",
   "metadata": {},
   "source": [
    "|Data Science Tools|\n",
    "|:-----------------:|\n",
    "|R Studio|\n",
    "|Hadoop|\n",
    "|Apache Spark|"
   ]
  },
  {
   "cell_type": "markdown",
   "id": "4627c3f5-138d-4a56-ba07-894899346988",
   "metadata": {},
   "source": [
    "### Below are a few examples of evaluating arithmetic expressions in Python"
   ]
  },
  {
   "cell_type": "code",
   "execution_count": 21,
   "id": "020a96a6-aa22-4d64-9892-5ae4541f367e",
   "metadata": {},
   "outputs": [
    {
     "data": {
      "text/plain": [
       "17"
      ]
     },
     "execution_count": 21,
     "metadata": {},
     "output_type": "execute_result"
    }
   ],
   "source": [
    "(3*4)+5\n",
    "#  This a simple arithmetic expression to mutiply then add integers"
   ]
  },
  {
   "cell_type": "code",
   "execution_count": 25,
   "id": "7787e72d-1e10-4fda-9c12-cf18cfa5101b",
   "metadata": {},
   "outputs": [
    {
     "data": {
      "text/plain": [
       "3.3333333333333335"
      ]
     },
     "execution_count": 25,
     "metadata": {},
     "output_type": "execute_result"
    }
   ],
   "source": [
    "# Convert minutes to hours\n",
    "minutes = 200\n",
    "hours = minutes / 60\n",
    "hours\n",
    "#This will convert 200 minutes to hours by diving by 60"
   ]
  },
  {
   "cell_type": "markdown",
   "id": "23626e68-f7a9-4342-b5e6-c2558d962593",
   "metadata": {},
   "source": [
    "**Objectives:**\n",
    "List popular languages in Data Science\n",
    "* Python\n",
    "* R\n",
    "* scala\n",
    "* julia"
   ]
  },
  {
   "cell_type": "markdown",
   "id": "8c4a7587-6f17-4502-8ca5-d43bfee3d367",
   "metadata": {},
   "source": [
    "## Author\n",
    "Mohit Nayak"
   ]
  },
  {
   "cell_type": "code",
   "execution_count": null,
   "id": "e89e8030-e2b1-47ad-901a-14499263135c",
   "metadata": {},
   "outputs": [],
   "source": []
  }
 ],
 "metadata": {
  "kernelspec": {
   "display_name": "Python 3 (ipykernel)",
   "language": "python",
   "name": "python3"
  },
  "language_info": {
   "codemirror_mode": {
    "name": "ipython",
    "version": 3
   },
   "file_extension": ".py",
   "mimetype": "text/x-python",
   "name": "python",
   "nbconvert_exporter": "python",
   "pygments_lexer": "ipython3",
   "version": "3.12.7"
  }
 },
 "nbformat": 4,
 "nbformat_minor": 5
}
